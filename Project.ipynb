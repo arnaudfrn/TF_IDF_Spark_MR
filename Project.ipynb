{
 "cells": [
  {
   "cell_type": "markdown",
   "metadata": {},
   "source": [
    "## Computing the TF-IDF using Spark and Python\n",
    "\n",
    "Database management project \n"
   ]
  },
  {
   "cell_type": "markdown",
   "metadata": {},
   "source": [
    "Objective of the session:\n",
    "    - Check evolution of TF IDF scores as size increase\n",
    "    - Write a lot about algorithm"
   ]
  },
  {
   "cell_type": "markdown",
   "metadata": {},
   "source": [
    "Question to ask:\n",
    "    - is it smart to use collect as map () vs. Collect()"
   ]
  },
  {
   "cell_type": "markdown",
   "metadata": {},
   "source": [
    "### Setting the workspace - for jupyter notbook only"
   ]
  },
  {
   "cell_type": "code",
   "execution_count": 102,
   "metadata": {},
   "outputs": [],
   "source": [
    "from pyspark import SparkConf, SparkContext\n",
    "import numpy as np"
   ]
  },
  {
   "cell_type": "code",
   "execution_count": 5,
   "metadata": {},
   "outputs": [],
   "source": [
    "conf = SparkConf().setMaster(\"local[1]\").setAppName(\"SparkTFIDF\")\n",
    "sc = SparkContext(conf=conf)"
   ]
  },
  {
   "cell_type": "markdown",
   "metadata": {},
   "source": [
    "### Loading and clearing data"
   ]
  },
  {
   "cell_type": "code",
   "execution_count": 6,
   "metadata": {},
   "outputs": [],
   "source": [
    "data_text_files = sc.wholeTextFiles(\"bbc/business/\", 8) #loading sets of files in the folder bbc\n"
   ]
  },
  {
   "cell_type": "code",
   "execution_count": 6,
   "metadata": {},
   "outputs": [],
   "source": [
    "nb_doc = data_text_files.count() #counting the number of files"
   ]
  },
  {
   "cell_type": "code",
   "execution_count": 7,
   "metadata": {},
   "outputs": [
    {
     "name": "stdout",
     "output_type": "stream",
     "text": [
      "510\n"
     ]
    }
   ],
   "source": [
    "print(nb_doc)"
   ]
  },
  {
   "cell_type": "code",
   "execution_count": 9,
   "metadata": {},
   "outputs": [],
   "source": [
    "#cleaning function - remove digits and punctuation and put everything in lowercase\n",
    "def lower_clean_str(x):\n",
    "  punc='!\"#$%&\\'()*+,-./:;<=>?@[\\\\]^_`{|}~'\n",
    "  digit='0123456789'\n",
    "  lowercased_str = x.lower()\n",
    "  \n",
    "  for ch in punc:\n",
    "    lowercased_str = lowercased_str.replace(ch, '')\n",
    "  for dig in digit:\n",
    "    lowercased_str = lowercased_str.replace(dig, '')\n",
    "  return lowercased_str.replace('\\n', '')\n"
   ]
  },
  {
   "cell_type": "code",
   "execution_count": 177,
   "metadata": {},
   "outputs": [],
   "source": [
    "#Function removing stopwords\n",
    "def stopword(x):\n",
    "    stopwords= ['a','able','about','across','after','all','almost','also','am','among','an','and','any','are','as','at','be','because','been','but','by',\n",
    "            'can','cannot','could','dear','did','do','does','either','else','ever','every','for','from','get','got','had','has','have','he','her','hers',\n",
    "            'him','his','how','however','i','if','in','into','is','it','its','just','least','let','like','likely','may','me','might','most','must','my',\n",
    "            'neither','no','nor','not','of','off','often','on','only','or','other','our','own','rather','said','say','says','she','should','since','so',\n",
    "            'some','than','that','the','their','them','then','there','these','they','this','tis','to','too','twas','us','wants','was','we','were','what',\n",
    "            'when','where','which','while','who','whom','why','will','with','would','yet','you','your' 'bn','£bn', 'see','£m']\n",
    "    \n",
    "    x = [ value for value in x if value not in stopwords]\n",
    "    return x\n"
   ]
  },
  {
   "cell_type": "code",
   "execution_count": 10,
   "metadata": {},
   "outputs": [],
   "source": [
    "data_text_cleared = data_text_files.mapValues(lower_clean_str)"
   ]
  },
  {
   "cell_type": "code",
   "execution_count": 11,
   "metadata": {},
   "outputs": [],
   "source": [
    "#tf part - count number of word occurence in each doc\n",
    "split_data = data_text_cleared.mapValues(lambda x: x.split()) #first, we split the data at every ' '\n",
    "\n"
   ]
  },
  {
   "cell_type": "code",
   "execution_count": 196,
   "metadata": {},
   "outputs": [],
   "source": [
    "split_data_cleared = split_data.mapValues(stopword)"
   ]
  },
  {
   "cell_type": "markdown",
   "metadata": {},
   "source": [
    "### TF computation"
   ]
  },
  {
   "cell_type": "code",
   "execution_count": 188,
   "metadata": {},
   "outputs": [],
   "source": [
    "term_freq = split_data.flatMapValues(lambda x: x).map(lambda x: ((x[0],x[1]), 1)) #apply a flatmap \n",
    "# and create a map with key (filename, word) and value 1"
   ]
  },
  {
   "cell_type": "code",
   "execution_count": 14,
   "metadata": {},
   "outputs": [],
   "source": [
    "rdd_term_freq = term_freq.reduceByKey(lambda x,y: x+y) #output is a RDD with Key (Title, word) and Value: nb_occurence"
   ]
  },
  {
   "cell_type": "markdown",
   "metadata": {},
   "source": [
    "### IDF computation"
   ]
  },
  {
   "cell_type": "code",
   "execution_count": 15,
   "metadata": {},
   "outputs": [],
   "source": [
    "#count number of document occurence of each word\n",
    "doc_freq = split_data.flatMapValues(lambda x: x).distinct() # get (file, word) for evry time a word is inside a doc\n",
    "idf_dict = doc_freq.map(lambda x: (x[1],x[0])).countByKey() # invert key value in the dictionnary for later - output is a dict as we apply the action .countByKey"
   ]
  },
  {
   "cell_type": "code",
   "execution_count": 16,
   "metadata": {},
   "outputs": [],
   "source": [
    "idf_rdd = doc_freq.map(lambda x: (x[1],1)).reduceByKey(lambda x,y: x+y) #we have a similar output as in idf_dict but with a rdd \n",
    " "
   ]
  },
  {
   "cell_type": "markdown",
   "metadata": {},
   "source": [
    "### (1) TF-IDF computation: putting everything together - with Broadcast dict"
   ]
  },
  {
   "cell_type": "code",
   "execution_count": 35,
   "metadata": {},
   "outputs": [],
   "source": [
    "idf_score = sc.broadcast(dict(idf_dict)) #using broadcasting variable for a map join \n",
    "\n",
    "# Creaing a RDD with key (file, word) and value (tf, idf)\n",
    "tf_idf_raw = rdd_term_freq.map(lambda x: ((x[0][0],x[0][1]), (x[1], idf_score.value[x[0][1]])))\n"
   ]
  },
  {
   "cell_type": "code",
   "execution_count": 44,
   "metadata": {},
   "outputs": [],
   "source": [
    "tf_idf_dict = tf_idf_raw.map(lambda x: (x[0], (x[1][0]/x[1][1]))) #get the tf-idf"
   ]
  },
  {
   "cell_type": "code",
   "execution_count": 45,
   "metadata": {},
   "outputs": [],
   "source": [
    "tf_idf_dict_broadcast = tf_idf_dict.collectAsMap() #RDD as a dict"
   ]
  },
  {
   "cell_type": "markdown",
   "metadata": {},
   "source": [
    "### (2) TF-IDF computation: putting everything together - with RDD join"
   ]
  },
  {
   "cell_type": "code",
   "execution_count": 33,
   "metadata": {},
   "outputs": [],
   "source": [
    "#using Spark join, we first need to change the Key of rdd_term_freq to have key: Word and value: (file, nb_occurence)\n",
    "joined_rdd = rdd_term_freq.map(lambda x: ((x[0][1]), (x[0][0], x[1]))).join(idf_rdd)\n",
    "#output is rdd (word, (( file, tf), rdf))\n"
   ]
  },
  {
   "cell_type": "code",
   "execution_count": 54,
   "metadata": {},
   "outputs": [],
   "source": [
    "tf_idf_dict_join = joined_rdd.map(lambda x: ((x[1][0][0], x[0]) , x[1][0][1]/x[1][1])).collectAsMap()"
   ]
  },
  {
   "cell_type": "code",
   "execution_count": null,
   "metadata": {},
   "outputs": [],
   "source": []
  },
  {
   "cell_type": "markdown",
   "metadata": {},
   "source": [
    "### Scalability Analysis"
   ]
  },
  {
   "cell_type": "markdown",
   "metadata": {},
   "source": [
    "##### Brodcasted dict size as fonction of nb of documents"
   ]
  },
  {
   "cell_type": "markdown",
   "metadata": {},
   "source": [
    "THe aim is to create a fonction that gets the first n file in the list and then run an idf on them, then compare the size of the dict as a fonction of the nb of file\n",
    "\n",
    "I'd expect a log shaped size, which would be good to justify use of broadcast variable"
   ]
  },
  {
   "cell_type": "code",
   "execution_count": 133,
   "metadata": {},
   "outputs": [],
   "source": [
    "test = sc.wholeTextFiles(\"bbc/business/\", 8) #loading sets of files in the folder bbc\n"
   ]
  },
  {
   "cell_type": "code",
   "execution_count": 180,
   "metadata": {},
   "outputs": [],
   "source": [
    "\n",
    "def nb_value_generator(x, stop_bool = False):\n",
    "    global test\n",
    "    doc = test.sample(True, x)\n",
    "    nb_doc = doc.count()\n",
    "\n",
    "\n",
    "    clean_rdd = doc.mapValues(lower_clean_str)\n",
    "    splitted_rdd = clean_rdd.mapValues(lambda x: x.split())\n",
    "    while stop_bool:\n",
    "        splitted_rdd = splitted_rdd.mapValues(stopword)\n",
    "        stop_bool = False\n",
    "    idf_rdd = splitted_rdd.flatMapValues(lambda x: x).distinct() # get (file, word) for evry time a word is inside a doc\n",
    "    idf_dict_nb = idf_rdd.map(lambda x: (x[1],x[0])).countByKey()\n",
    "    \n",
    "    nb_word=0\n",
    "    for elem in idf_dict_nb:\n",
    "        nb_word += 1\n",
    "    return (nb_doc, nb_word)\n",
    "\n"
   ]
  },
  {
   "cell_type": "code",
   "execution_count": 183,
   "metadata": {},
   "outputs": [
    {
     "data": {
      "text/plain": [
       "(15, 1441)"
      ]
     },
     "execution_count": 183,
     "metadata": {},
     "output_type": "execute_result"
    }
   ],
   "source": [
    "nb_value_generator(0.02, True)"
   ]
  },
  {
   "cell_type": "code",
   "execution_count": 184,
   "metadata": {},
   "outputs": [],
   "source": [
    "\n",
    "words_nb=[]\n",
    "docs_nb=[]\n",
    "\n",
    "words_nb_clean=[]\n",
    "docs_nb_clean=[]\n",
    "\n",
    "for i in np.linspace(0.01,1,25):\n",
    "    yolo = nb_value_generator(i)\n",
    "    yolo_clean = nb_value_generator(i, True)\n",
    "    docs_nb.append(yolo[0])\n",
    "    words_nb.append(yolo[1])\n",
    "    docs_nb_clean.append(yolo_clean[0])\n",
    "    words_nb_clean.append(yolo_clean[1])\n",
    "\n",
    "    "
   ]
  },
  {
   "cell_type": "code",
   "execution_count": 185,
   "metadata": {
    "scrolled": true
   },
   "outputs": [
    {
     "name": "stdout",
     "output_type": "stream",
     "text": [
      "[513, 1889, 3262, 3815, 5092, 5786, 5751, 6278, 6828, 6682, 7612, 8067, 7860, 9011, 8386, 9074, 9196, 9009, 9884, 9976, 9962, 9974, 10374, 10433, 10616] [4, 22, 52, 61, 94, 134, 127, 145, 160, 168, 206, 235, 238, 301, 280, 332, 340, 336, 396, 430, 418, 453, 465, 485, 499]\n"
     ]
    }
   ],
   "source": [
    "print(words_nb, docs_nb)"
   ]
  },
  {
   "cell_type": "code",
   "execution_count": 187,
   "metadata": {},
   "outputs": [
    {
     "data": {
      "text/plain": [
       "<function matplotlib.pyplot.show(*args, **kw)>"
      ]
     },
     "execution_count": 187,
     "metadata": {},
     "output_type": "execute_result"
    },
    {
     "data": {
      "image/png": "[encoded data removed]",
      "text/plain": [
       "<Figure size 432x288 with 1 Axes>"
      ]
     },
     "metadata": {
      "needs_background": "light"
     },
     "output_type": "display_data"
    }
   ],
   "source": [
    "import matplotlib.pyplot as plt\n",
    "\n",
    "\n",
    "\n",
    "\n",
    "plt.plot(docs_nb, words_nb)\n",
    "plt.plot(docs_nb_clean, words_nb_clean, color = \"g\")\n",
    "plt.show\n",
    "\n",
    "\n",
    "#could make them look nicer"
   ]
  },
  {
   "cell_type": "markdown",
   "metadata": {},
   "source": [
    "##### Distibution of IDF score as fonction of nb of doc"
   ]
  },
  {
   "cell_type": "code",
   "execution_count": null,
   "metadata": {},
   "outputs": [],
   "source": []
  }
 ],
 "metadata": {
  "kernelspec": {
   "display_name": "Python 3",
   "language": "python",
   "name": "python3"
  },
  "language_info": {
   "codemirror_mode": {
    "name": "ipython",
    "version": 3
   },
   "file_extension": ".py",
   "mimetype": "text/x-python",
   "name": "python",
   "nbconvert_exporter": "python",
   "pygments_lexer": "ipython3",
   "version": "3.7.1"
  }
 },
 "nbformat": 4,
 "nbformat_minor": 2
}
