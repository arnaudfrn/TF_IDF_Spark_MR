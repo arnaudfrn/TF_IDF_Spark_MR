{
 "cells": [
  {
   "cell_type": "markdown",
   "metadata": {},
   "source": [
    "## Computing the TF-IDF using Spark and Python\n",
    "\n",
    "#### Database management project - Ecole Polytechnique - 2019\n",
    "\n",
    "By Arnaud Fournier, Annabelle Frin et Alexis Lancien\n"
   ]
  },
  {
   "cell_type": "markdown",
   "metadata": {},
   "source": [
    "For the analysis, we have used a dataset of article from the bbc containing 2225 articles, sapnning a large range of subject (from sport to politics). \n",
    "We define Corpus as being the ensemble of articles from the BBC we are using and document as individual element of the corpus.\n",
    "\n",
    "Our objective is to build a simple algorithm to compute TF/IDF scores - an abbreviation for Term Frequency-Inverse Document Frequency - which represents one of the most common algorithms in text processing.\n",
    "\n",
    "Intuitively, TF-IDF provides a means of characterizing/describing documents using the words that occur in them. It provides a means for converting documents into Vectors [N1, N2, N3....Nn] for machine learning or further processing. Given a collection of documents that make up a corpus, tf-idf assigns scores to words in each document which represents how important the word is in describing the document. 'Generally', the more important the word, the higher it's tf-idf score. The score is a product of two distinct terms TF (term frequency - how often the word occurs in the document) and IDF (Inverse Document Frequency - is a weighting factor that values rare words. It is constant for each word in the corpus and is a measure of how rare the word is in the corpus.)\n",
    "\n",
    "\n",
    "$$tf-idf_{t,d} = (1 +\\log tf_{t,d}) \\cdot \\log \\frac{N}{df_t}\n",
    "\n",
    "\\mbox{tf-idf}_{t,d} = (1 +\\log \\mbox{tf}_{t,d}) \\cdot \\log \\frac{N}{\\mbox{df}_t}\n",
    "\n",
    "<\\b> So what we are trying to do with tf-idf is to find a vector that best describes the document using the words that occur in the document, giving more value to words that are rare in the corpus. <\\b>"
   ]
  },
  {
   "cell_type": "markdown",
   "metadata": {},
   "source": [
    "### Setting the workspace - for jupyter notbook only"
   ]
  },
  {
   "cell_type": "code",
   "execution_count": 74,
   "metadata": {},
   "outputs": [],
   "source": [
    "from pyspark import SparkConf, SparkContext\n",
    "import numpy as np\n",
    "import matplotlib.pyplot as plt\n",
    "from matplotlib.font_manager import FontProperties\n",
    "import math as m\n",
    "from IPython.display import display, Math, Latex"
   ]
  },
  {
   "cell_type": "code",
   "execution_count": 3,
   "metadata": {},
   "outputs": [],
   "source": [
    "conf = SparkConf().setMaster(\"local[1]\").setAppName(\"SparkTFIDF\")\n",
    "sc = SparkContext(conf=conf)"
   ]
  },
  {
   "cell_type": "markdown",
   "metadata": {},
   "source": [
    "### Loading and clearing data"
   ]
  },
  {
   "cell_type": "code",
   "execution_count": 4,
   "metadata": {},
   "outputs": [],
   "source": [
    "data_text_files = sc.wholeTextFiles(\"bbc/business/\", 8) #loading sets of files in the folder bbc\n"
   ]
  },
  {
   "cell_type": "code",
   "execution_count": 43,
   "metadata": {},
   "outputs": [],
   "source": [
    "nb_doc = data_text_files.count() #counting the number of files"
   ]
  },
  {
   "cell_type": "code",
   "execution_count": 6,
   "metadata": {},
   "outputs": [
    {
     "name": "stdout",
     "output_type": "stream",
     "text": [
      "510\n"
     ]
    }
   ],
   "source": [
    "print(nb_doc)"
   ]
  },
  {
   "cell_type": "code",
   "execution_count": 7,
   "metadata": {},
   "outputs": [],
   "source": [
    "#cleaning function - remove digits and punctuation and put everything in lowercase\n",
    "def lower_clean_str(x):\n",
    "  punc='!\"#$%&\\'()*+,-./:;<=>?@[\\\\]^_`{|}~'\n",
    "  digit='0123456789'\n",
    "  lowercased_str = x.lower()\n",
    "  \n",
    "  for ch in punc:\n",
    "    lowercased_str = lowercased_str.replace(ch, '')\n",
    "  for dig in digit:\n",
    "    lowercased_str = lowercased_str.replace(dig, '')\n",
    "  return lowercased_str.replace('\\n', '')\n"
   ]
  },
  {
   "cell_type": "code",
   "execution_count": 8,
   "metadata": {},
   "outputs": [],
   "source": [
    "#Function removing stopwords\n",
    "def stopword(x):\n",
    "    stopwords= ['a','able','about','across','after','all','almost','also','am','among','an','and','any','are','as','at','be','because','been','but','by',\n",
    "            'can','cannot','could','dear','did','do','does','either','else','ever','every','for','from','get','got','had','has','have','he','her','hers',\n",
    "            'him','his','how','however','i','if','in','into','is','it','its','just','least','let','like','likely','may','me','might','most','must','my',\n",
    "            'neither','no','nor','not','of','off','often','on','only','or','other','our','own','rather','said','say','says','she','should','since','so',\n",
    "            'some','than','that','the','their','them','then','there','these','they','this','tis','to','too','twas','us','wants','was','we','were','what',\n",
    "            'when','where','which','while','who','whom','why','will','with','would','yet','you','your' 'bn','£bn', 'see','£m']\n",
    "    \n",
    "    x = [ value for value in x if value not in stopwords]\n",
    "    return x\n"
   ]
  },
  {
   "cell_type": "code",
   "execution_count": 9,
   "metadata": {},
   "outputs": [],
   "source": [
    "data_text_cleared = data_text_files.mapValues(lower_clean_str) #Apply the function to every element of the paired RDD"
   ]
  },
  {
   "cell_type": "code",
   "execution_count": 10,
   "metadata": {},
   "outputs": [],
   "source": [
    "#tf part - count number of word occurence in each doc\n",
    "split_data = data_text_cleared.mapValues(lambda x: x.split()) #first, we split the data at every ' '\n",
    "\n"
   ]
  },
  {
   "cell_type": "code",
   "execution_count": 11,
   "metadata": {},
   "outputs": [],
   "source": [
    "split_data_cleared = split_data.mapValues(stopword) #Apply the function deleting stopwords from Values if the Paired RDD"
   ]
  },
  {
   "cell_type": "markdown",
   "metadata": {},
   "source": [
    "### TF computation"
   ]
  },
  {
   "cell_type": "markdown",
   "metadata": {},
   "source": [
    "TF is the number of times a term occurs within a document. This means that a term has different TF values for different documents of the corpus."
   ]
  },
  {
   "cell_type": "code",
   "execution_count": 12,
   "metadata": {},
   "outputs": [],
   "source": [
    "term_freq = split_data.flatMapValues(lambda x: x).map(lambda x: ((x[0],x[1]), 1)) #apply a flatmap \n",
    "# and create a map with key (filename, word) and value 1"
   ]
  },
  {
   "cell_type": "code",
   "execution_count": 13,
   "metadata": {},
   "outputs": [],
   "source": [
    "rdd_term_freq = term_freq.reduceByKey(lambda x,y: x+y) #output is a RDD with Key (Title, word) and Value: nb_occurence"
   ]
  },
  {
   "cell_type": "markdown",
   "metadata": {},
   "source": [
    "### IDF computation"
   ]
  },
  {
   "cell_type": "markdown",
   "metadata": {},
   "source": [
    "IDF is a fonction of the word occurence in the corpus. More precisely it is calculated as the log of the number of documents over the number of documents in which the word appears"
   ]
  },
  {
   "cell_type": "code",
   "execution_count": 14,
   "metadata": {},
   "outputs": [],
   "source": [
    "#count number of document occurence of each word\n",
    "doc_freq = split_data.flatMapValues(lambda x: x).distinct() # get (file, word) for evry time a word is inside a doc\n",
    "idf_dict = doc_freq.map(lambda x: (x[1],x[0])).countByKey() # invert key value in the dictionnary for later - output is a dict as we apply the action .countByKey"
   ]
  },
  {
   "cell_type": "code",
   "execution_count": 47,
   "metadata": {},
   "outputs": [],
   "source": [
    "nb_doc = data_text_files.count() #counting the number of files\n",
    "doc_nb = sc.broadcast(nb_doc) #boradcasting nb of doc in the corpus for computation"
   ]
  },
  {
   "cell_type": "code",
   "execution_count": 15,
   "metadata": {},
   "outputs": [],
   "source": [
    "idf_rdd = doc_freq.map(lambda x: (x[1],1)).reduceByKey(lambda x,y: x+y).map(lambda x: (x[0], doc_nb.value/ x[1])) #we have a similar output as in idf_dict but with a rdd "
   ]
  },
  {
   "cell_type": "markdown",
   "metadata": {},
   "source": [
    "We have divided the following section into two part, as we have tested two different algorithm.\n",
    "    - the first one uses a broacast dictionary containing the IDF scores for each word in the corpus and is used to perform a map join. Our initial thoughts are that it would be very efficient for small ot medium size corpus. The boradcast variable may become to large to handle for large corpus.\n",
    "    - the second methos is a more classic Spark inner join\n",
    "    \n",
    "Both methods are tested in the scalability analysis with different level of corpus size"
   ]
  },
  {
   "cell_type": "markdown",
   "metadata": {},
   "source": [
    "### (1) TF-IDF computation: putting everything together - with Broadcast dict"
   ]
  },
  {
   "cell_type": "code",
   "execution_count": 16,
   "metadata": {},
   "outputs": [],
   "source": [
    "idf_score = sc.broadcast(dict(idf_dict)) #using broadcasting variable for a map join \n",
    "# Creaing a RDD with key (file, word) and value (tf, idf)\n",
    "tf_idf_raw = rdd_term_freq.map(lambda x: ((x[0][0],x[0][1]), (x[1], idf_score.value[x[0][1]])))\n"
   ]
  },
  {
   "cell_type": "code",
   "execution_count": 48,
   "metadata": {},
   "outputs": [],
   "source": [
    "#brodcasting the number of element in the corpus\n",
    "nb_doc = data_text_files.count() #counting the number of files\n",
    "doc_nb = sc.broadcast(nb_doc)\n",
    "tf_idf_dict = tf_idf_raw.map(lambda x: (x[0], (x[1][0] * m.log10(doc_nb.value/x[1][1])))) #get the tf-idf"
   ]
  },
  {
   "cell_type": "code",
   "execution_count": 52,
   "metadata": {},
   "outputs": [],
   "source": [
    "tf_idf_dict_broadcast = tf_idf_dict.collectAsMap() #RDD as a dict"
   ]
  },
  {
   "cell_type": "markdown",
   "metadata": {},
   "source": [
    "### (2) TF-IDF computation: putting everything together - with RDD join"
   ]
  },
  {
   "cell_type": "code",
   "execution_count": 49,
   "metadata": {},
   "outputs": [],
   "source": [
    "nb_doc = data_text_files.count() #counting the number of files\n",
    "doc_nb = sc.broadcast(nb_doc)"
   ]
  },
  {
   "cell_type": "code",
   "execution_count": 50,
   "metadata": {},
   "outputs": [],
   "source": [
    "#using Spark join, we first need to change the Key of rdd_term_freq to have key: Word and value: (file, nb_occurence)\n",
    "joined_rdd = rdd_term_freq.map(lambda x: ((x[0][1]), (x[0][0], x[1]))).join(idf_rdd)\n",
    "#output is rdd (word, (( file, tf), rdf))\n"
   ]
  },
  {
   "cell_type": "code",
   "execution_count": 51,
   "metadata": {},
   "outputs": [],
   "source": [
    "tf_idf_dict_join = joined_rdd.map(lambda x: ((x[1][0][0], x[0]) , x[1][0][1]*m.log10(x[1][1]))).collectAsMap() \n",
    "#Use CollectAsMap to get a dictionnary isntead of a list from Collect, as it is easier to work with considering we use paired RDD"
   ]
  },
  {
   "cell_type": "markdown",
   "metadata": {},
   "source": [
    "### Scalability Analysis"
   ]
  },
  {
   "cell_type": "markdown",
   "metadata": {},
   "source": [
    "##### Brodcasted dict size as fonction of nb of documents"
   ]
  },
  {
   "cell_type": "markdown",
   "metadata": {},
   "source": [
    "THe aim is to create a fonction that gets the first n file in the list and then run an idf on them, then compare the size of the dict as a fonction of the nb of file\n",
    "\n",
    "I'd expect a log shaped size, which would be good to justify use of broadcast variable"
   ]
  },
  {
   "cell_type": "code",
   "execution_count": 21,
   "metadata": {},
   "outputs": [],
   "source": [
    "test = sc.wholeTextFiles(\"bbc/business/\", 8) #loading sets of files in the folder bbc\n"
   ]
  },
  {
   "cell_type": "code",
   "execution_count": 22,
   "metadata": {},
   "outputs": [],
   "source": [
    "# We define a function that allow us to get a asubsample of the corpus, of variable size, in order to evaluate the scalability of the broadcasted dictionnary\n",
    "def nb_value_generator(x, stop_bool = False):\n",
    "    global test\n",
    "    doc = test.sample(True, x)\n",
    "    nb_doc = doc.count()\n",
    "\n",
    "\n",
    "    clean_rdd = doc.mapValues(lower_clean_str)\n",
    "    splitted_rdd = clean_rdd.mapValues(lambda x: x.split())\n",
    "    while stop_bool:\n",
    "        splitted_rdd = splitted_rdd.mapValues(stopword)\n",
    "        stop_bool = False\n",
    "    idf_rdd = splitted_rdd.flatMapValues(lambda x: x).distinct() # get (file, word) for evry time a word is inside a doc\n",
    "    idf_dict_nb = idf_rdd.map(lambda x: (x[1],x[0])).countByKey()\n",
    "    \n",
    "    nb_word=0\n",
    "    for elem in idf_dict_nb:\n",
    "        nb_word += 1\n",
    "    return (nb_doc, nb_word)\n",
    "\n"
   ]
  },
  {
   "cell_type": "code",
   "execution_count": 24,
   "metadata": {},
   "outputs": [],
   "source": [
    "#Create two list of tuple (Number of documents from the corpus, Nbumber of element in the Value of the dictionnary)\n",
    "#We randomize the selection of dicument from the corpus to have more informative results about the reality\n",
    "words_nb=[]\n",
    "docs_nb=[]\n",
    "\n",
    "words_nb_clean=[]\n",
    "docs_nb_clean=[]\n",
    "\n",
    "for i in np.linspace(0.01,1,25):\n",
    "    yolo = nb_value_generator(i)\n",
    "    yolo_clean = nb_value_generator(i, True)\n",
    "    docs_nb.append(yolo[0])\n",
    "    words_nb.append(yolo[1])\n",
    "    docs_nb_clean.append(yolo_clean[0])\n",
    "    words_nb_clean.append(yolo_clean[1])\n",
    "\n",
    "    "
   ]
  },
  {
   "cell_type": "code",
   "execution_count": 25,
   "metadata": {
    "scrolled": true
   },
   "outputs": [
    {
     "name": "stdout",
     "output_type": "stream",
     "text": [
      "[637, 2255, 3168, 3908, 5070, 5486, 6088, 5866, 6898, 7298, 7468, 7945, 7654, 8825, 8932, 8575, 9264, 9272, 9634, 9997, 10461, 10262, 10385, 10434, 10584] [3, 28, 44, 63, 104, 104, 136, 139, 182, 191, 219, 237, 228, 306, 325, 312, 371, 342, 374, 421, 461, 447, 495, 497, 490]\n"
     ]
    }
   ],
   "source": [
    "print(words_nb, docs_nb)"
   ]
  },
  {
   "cell_type": "code",
   "execution_count": 26,
   "metadata": {},
   "outputs": [
    {
     "data": {
      "text/plain": [
       "<function matplotlib.pyplot.show(*args, **kw)>"
      ]
     },
     "execution_count": 26,
     "metadata": {},
     "output_type": "execute_result"
    },
    {
     "data": {
      "image/png": "[encoded data removed]",
      "text/plain": [
       "<Figure size 432x288 with 1 Axes>"
      ]
     },
     "metadata": {
      "needs_background": "light"
     },
     "output_type": "display_data"
    }
   ],
   "source": [
    "#Plotting results\n",
    "plt.plot(docs_nb, words_nb, label='StopWords included')\n",
    "plt.plot(docs_nb_clean, words_nb_clean, color = \"orange\", label='StopWords not included')\n",
    "plt.xlabel('Number of documents')\n",
    "plt.ylabel('Number of word in the broadcasted dict')\n",
    "\n",
    "plt.title(\"Evolution of the number of word in the broadcasted dictionnary as function of number of documents\")\n",
    "plt.legend()\n",
    "plt.show\n",
    "\n",
    "\n",
    "#could make them look nicer"
   ]
  },
  {
   "cell_type": "markdown",
   "metadata": {},
   "source": [
    "Two main ideas come out of this graph:\n",
    "    - The difference in size of the broadcasted dictionnary with/without stopwords is negligeable. We would not expect important difference in running time\n",
    "    - the shape of the graph is interesting, as the number of document from the corpus selected increases, the number of word in the dictionnary increases less than proportionnaly. It is a good feature to have, as the size of the dictionnary broadcasted is a key factor in the scalability of our algorithm."
   ]
  },
  {
   "cell_type": "markdown",
   "metadata": {},
   "source": [
    "##### Distibution of IDF score as fonction of nb of doc"
   ]
  },
  {
   "cell_type": "markdown",
   "metadata": {},
   "source": [
    "For understandability and meaningfulness we want to check evolution of scores as nb od documents increase."
   ]
  },
  {
   "cell_type": "code",
   "execution_count": 56,
   "metadata": {},
   "outputs": [],
   "source": [
    "idf_scores_graph = joined_rdd.map(lambda x: ((x[1][0][0], x[0]) , x[1][0][1]*m.log10(x[1][1]))).map(lambda x: x[1]).collect()"
   ]
  },
  {
   "cell_type": "code",
   "execution_count": 99,
   "metadata": {},
   "outputs": [
    {
     "data": {
      "image/png": "[encoded data removed]",
      "text/plain": [
       "<Figure size 432x288 with 1 Axes>"
      ]
     },
     "metadata": {
      "needs_background": "light"
     },
     "output_type": "display_data"
    }
   ],
   "source": [
    "num_bins = 1000\n",
    "fig = plt.figure()\n",
    "ax=fig.add_subplot(111)\n",
    "ax.hist(idf_scores_graph, num_bins, density=1)\n",
    "ax.set_xlim(left=0.0, xmax=25)\n",
    "plt.title(\"Distribution of IDF scores on a corpus of 510 documents\")\n",
    "plt.xlabel('IDF Score')\n",
    "plt.show()"
   ]
  }
 ],
 "metadata": {
  "kernelspec": {
   "display_name": "Python 3",
   "language": "python",
   "name": "python3"
  },
  "language_info": {
   "codemirror_mode": {
    "name": "ipython",
    "version": 3
   },
   "file_extension": ".py",
   "mimetype": "text/x-python",
   "name": "python",
   "nbconvert_exporter": "python",
   "pygments_lexer": "ipython3",
   "version": "3.7.1"
  }
 },
 "nbformat": 4,
 "nbformat_minor": 2
}
